{
  "nbformat": 4,
  "nbformat_minor": 0,
  "metadata": {
    "colab": {
      "provenance": []
    },
    "kernelspec": {
      "name": "python3",
      "display_name": "Python 3"
    },
    "language_info": {
      "name": "python"
    }
  },
  "cells": [
    {
      "cell_type": "code",
      "execution_count": 2,
      "metadata": {
        "colab": {
          "base_uri": "https://localhost:8080/"
        },
        "id": "oMkQXLkSFzQ_",
        "outputId": "d4ed8d4c-7270-41ff-c6b6-51efd1a856ff"
      },
      "outputs": [
        {
          "output_type": "stream",
          "name": "stdout",
          "text": [
            "Mounted at /content/drive\n"
          ]
        }
      ],
      "source": [
        "from google.colab import drive\n",
        "drive.mount('/content/drive')"
      ]
    },
    {
      "cell_type": "code",
      "source": [
        "#Importar librerías\n",
        "import pandas as pd\n",
        "import numpy as np\n",
        "import plotly.express as px\n",
        "from datetime import datetime\n",
        "\n",
        "#Leer el archivo de los reporter mensaules de MIV Unisalud\n",
        "df = pd.read_csv('/content/drive/MyDrive/datasets/reportes_bbdd.csv')"
      ],
      "metadata": {
        "id": "N_FtjNKeF0jR"
      },
      "execution_count": 28,
      "outputs": []
    },
    {
      "cell_type": "code",
      "source": [
        "# Convertir la columna 'fecha' a datetime\n",
        "df['fecha'] = pd.to_datetime(df['fecha'], dayfirst=True, errors='coerce')\n",
        "df['hora'] = pd.to_datetime(df['hora'], format='%H:%M:%S', errors='coerce').dt.time  # Eliminar cualquier dato que no sea hora válida"
      ],
      "metadata": {
        "id": "Vnp8QUSrCbJI"
      },
      "execution_count": 29,
      "outputs": []
    },
    {
      "cell_type": "code",
      "source": [
        "# Filtrar las horas antes de las 12:00 pm\n",
        "df_filtered_a = df[df['hora'] < datetime.strptime('12:00:00', '%H:%M:%S').time()]\n",
        "df_filtered = df_filtered_a[df_filtered_a['area'] == 1]\n",
        "\n",
        "# Convertir la hora en minutos de diferencia respecto a las 9:00 am\n",
        "hora_referencia_area1m = datetime.strptime('09:00:00', '%H:%M:%S').time()\n",
        "df_filtered['desviacion_minutos'] = df_filtered['hora'].apply(\n",
        "    lambda t: (datetime.combine(datetime.today(), t) - datetime.combine(datetime.today(), hora_referencia_area1m)).total_seconds() / 60)\n",
        "\n",
        "\n",
        "# Calcular el RMSE\n",
        "rmse_area1m = np.sqrt(np.mean(df_filtered['desviacion_minutos']**2))\n",
        "\n",
        "# Filtrar solo los registros con area = 1\n",
        "df_area1 = df_filtered[df_filtered['area'] == 1]\n",
        "\n",
        "\n",
        "# Convertir la hora en minutos desde la medianoche para el área 1\n",
        "df_area1['hora_minutos'] = df_area1['hora'].apply(lambda t: t.hour * 60 + t.minute + t.second / 60)\n",
        "\n",
        "\n",
        "# Generar el gráfico de dispersión para área = 1\n",
        "fig_area1m = px.scatter(df_area1, x='fecha', y='hora_minutos', title=f'Diagrama de dispersión para Área 1 Mañana (RMSE: {60*rmse_area1m:.2f} segundos)',\n",
        "                 labels={'hora_minutos': 'Hora', 'fecha': 'Fecha'})\n",
        "\n",
        "\n",
        "# Añadir la línea de referencia en 9:00 am (540 minutos desde medianoche)\n",
        "fig_area1m.add_shape(type=\"line\", x0=min(df_area1['fecha']), x1=max(df_area1['fecha']), y0=540, y1=540,\n",
        "              line=dict(color=\"Red\", width=2))\n",
        "\n",
        "# Añadir la línea de referencia en 8:59 am (539 minutos desde medianoche)\n",
        "fig_area1m.add_shape(type=\"line\", x0=min(df_area1['fecha']), x1=max(df_area1['fecha']), y0=539, y1=539,\n",
        "              line=dict(color=\"gray\", width=2, dash=\"dash\"))\n",
        "\n",
        "# Añadir la línea de referencia en 9:01 am (541 minutos desde medianoche)\n",
        "fig_area1m.add_shape(type=\"line\", x0=min(df_area1['fecha']), x1=max(df_area1['fecha']), y0=541, y1=541,\n",
        "              line=dict(color=\"gray\", width=2, dash=\"dash\"))\n",
        "\n",
        "# Actualizar el espaciado de las fechas para que sea diario\n",
        "fig_area1m.update_xaxes(dtick=\"D1\")  # Mostrar ticks diarios en el eje X\n",
        "\n",
        "\n",
        "# Añadir etiquetas en el eje Y en formato HH:MM:SS\n",
        "fig_area1m.update_layout(\n",
        "    yaxis=dict(\n",
        "        tickvals=[539, 540, 541, 660],\n",
        "        ticktext=[\"08:59:00\", \"09:00:00\", \"09:01:00\"]\n",
        "    ),\n",
        "    yaxis_title=\"Hora del día\",\n",
        "    xaxis_title=\"Fecha\",\n",
        "    plot_bgcolor='white',  # Fondo del área de trazado\n",
        "    paper_bgcolor='white'  # Fondo del papel del gráfico\n",
        ")\n",
        "\n",
        "# Establecer el rango del eje Y en minutos\n",
        "fig_area1m.update_yaxes(range=[538, 542])  # 897 minutos = 15:00, 903 minutos = 15:03\n",
        "\n",
        "# Mostrar gráfico\n",
        "fig_area1m.show()"
      ],
      "metadata": {
        "colab": {
          "base_uri": "https://localhost:8080/",
          "height": 688
        },
        "id": "SFdl-E17F-tM",
        "outputId": "ccb5b910-4855-4e6c-bd27-1ded9680aae6"
      },
      "execution_count": 30,
      "outputs": [
        {
          "output_type": "stream",
          "name": "stderr",
          "text": [
            "<ipython-input-30-620f9973f0c8>:7: SettingWithCopyWarning:\n",
            "\n",
            "\n",
            "A value is trying to be set on a copy of a slice from a DataFrame.\n",
            "Try using .loc[row_indexer,col_indexer] = value instead\n",
            "\n",
            "See the caveats in the documentation: https://pandas.pydata.org/pandas-docs/stable/user_guide/indexing.html#returning-a-view-versus-a-copy\n",
            "\n"
          ]
        },
        {
          "output_type": "display_data",
          "data": {
            "text/html": [
              "<html>\n",
              "<head><meta charset=\"utf-8\" /></head>\n",
              "<body>\n",
              "    <div>            <script src=\"https://cdnjs.cloudflare.com/ajax/libs/mathjax/2.7.5/MathJax.js?config=TeX-AMS-MML_SVG\"></script><script type=\"text/javascript\">if (window.MathJax && window.MathJax.Hub && window.MathJax.Hub.Config) {window.MathJax.Hub.Config({SVG: {font: \"STIX-Web\"}});}</script>                <script type=\"text/javascript\">window.PlotlyConfig = {MathJaxConfig: 'local'};</script>\n",
              "        <script charset=\"utf-8\" src=\"https://cdn.plot.ly/plotly-2.35.2.min.js\"></script>                <div id=\"4e45b858-31f1-446b-acca-6c64353df42c\" class=\"plotly-graph-div\" style=\"height:525px; width:100%;\"></div>            <script type=\"text/javascript\">                                    window.PLOTLYENV=window.PLOTLYENV || {};                                    if (document.getElementById(\"4e45b858-31f1-446b-acca-6c64353df42c\")) {                    Plotly.newPlot(                        \"4e45b858-31f1-446b-acca-6c64353df42c\",                        [{\"hovertemplate\":\"Fecha=%{x}\\u003cbr\\u003eHora=%{y}\\u003cextra\\u003e\\u003c\\u002fextra\\u003e\",\"legendgroup\":\"\",\"marker\":{\"color\":\"#636efa\",\"symbol\":\"circle\"},\"mode\":\"markers\",\"name\":\"\",\"orientation\":\"v\",\"showlegend\":false,\"x\":[\"2024-07-04T00:00:00\",\"2024-07-05T00:00:00\",\"2024-07-01T00:00:00\",\"2024-07-03T00:00:00\",\"2024-07-02T00:00:00\",\"2024-07-06T00:00:00\",\"2024-07-07T00:00:00\",\"2024-07-20T00:00:00\",\"2024-07-28T00:00:00\",\"2024-07-26T00:00:00\",\"2024-07-27T00:00:00\",\"2024-07-14T00:00:00\",\"2024-07-19T00:00:00\",\"2024-07-24T00:00:00\",\"2024-07-30T00:00:00\",\"2024-07-09T00:00:00\",\"2024-07-12T00:00:00\",\"2024-07-16T00:00:00\",\"2024-07-29T00:00:00\",\"2024-07-18T00:00:00\",\"2024-07-25T00:00:00\",\"2024-07-11T00:00:00\",\"2024-07-15T00:00:00\",\"2024-07-22T00:00:00\",\"2024-07-21T00:00:00\",\"2024-07-10T00:00:00\",\"2024-07-13T00:00:00\",\"2024-07-31T00:00:00\",\"2024-07-17T00:00:00\",\"2024-07-23T00:00:00\",\"2024-07-08T00:00:00\"],\"xaxis\":\"x\",\"y\":[540.1,540.3,540.15,540.15,540.4833333333333,540.1,540.0833333333334,540.3833333333333,540.05,540.2166666666667,540.0333333333333,540.15,540.4,540.2,540.3333333333334,540.15,540.1833333333333,540.1666666666666,540.1833333333333,540.05,540.3666666666667,540.3333333333334,540.0666666666667,540.1,540.2333333333333,540.2333333333333,540.0833333333334,540.1,540.1666666666666,540.0333333333333,540.3],\"yaxis\":\"y\",\"type\":\"scatter\"}],                        {\"template\":{\"data\":{\"histogram2dcontour\":[{\"type\":\"histogram2dcontour\",\"colorbar\":{\"outlinewidth\":0,\"ticks\":\"\"},\"colorscale\":[[0.0,\"#0d0887\"],[0.1111111111111111,\"#46039f\"],[0.2222222222222222,\"#7201a8\"],[0.3333333333333333,\"#9c179e\"],[0.4444444444444444,\"#bd3786\"],[0.5555555555555556,\"#d8576b\"],[0.6666666666666666,\"#ed7953\"],[0.7777777777777778,\"#fb9f3a\"],[0.8888888888888888,\"#fdca26\"],[1.0,\"#f0f921\"]]}],\"choropleth\":[{\"type\":\"choropleth\",\"colorbar\":{\"outlinewidth\":0,\"ticks\":\"\"}}],\"histogram2d\":[{\"type\":\"histogram2d\",\"colorbar\":{\"outlinewidth\":0,\"ticks\":\"\"},\"colorscale\":[[0.0,\"#0d0887\"],[0.1111111111111111,\"#46039f\"],[0.2222222222222222,\"#7201a8\"],[0.3333333333333333,\"#9c179e\"],[0.4444444444444444,\"#bd3786\"],[0.5555555555555556,\"#d8576b\"],[0.6666666666666666,\"#ed7953\"],[0.7777777777777778,\"#fb9f3a\"],[0.8888888888888888,\"#fdca26\"],[1.0,\"#f0f921\"]]}],\"heatmap\":[{\"type\":\"heatmap\",\"colorbar\":{\"outlinewidth\":0,\"ticks\":\"\"},\"colorscale\":[[0.0,\"#0d0887\"],[0.1111111111111111,\"#46039f\"],[0.2222222222222222,\"#7201a8\"],[0.3333333333333333,\"#9c179e\"],[0.4444444444444444,\"#bd3786\"],[0.5555555555555556,\"#d8576b\"],[0.6666666666666666,\"#ed7953\"],[0.7777777777777778,\"#fb9f3a\"],[0.8888888888888888,\"#fdca26\"],[1.0,\"#f0f921\"]]}],\"heatmapgl\":[{\"type\":\"heatmapgl\",\"colorbar\":{\"outlinewidth\":0,\"ticks\":\"\"},\"colorscale\":[[0.0,\"#0d0887\"],[0.1111111111111111,\"#46039f\"],[0.2222222222222222,\"#7201a8\"],[0.3333333333333333,\"#9c179e\"],[0.4444444444444444,\"#bd3786\"],[0.5555555555555556,\"#d8576b\"],[0.6666666666666666,\"#ed7953\"],[0.7777777777777778,\"#fb9f3a\"],[0.8888888888888888,\"#fdca26\"],[1.0,\"#f0f921\"]]}],\"contourcarpet\":[{\"type\":\"contourcarpet\",\"colorbar\":{\"outlinewidth\":0,\"ticks\":\"\"}}],\"contour\":[{\"type\":\"contour\",\"colorbar\":{\"outlinewidth\":0,\"ticks\":\"\"},\"colorscale\":[[0.0,\"#0d0887\"],[0.1111111111111111,\"#46039f\"],[0.2222222222222222,\"#7201a8\"],[0.3333333333333333,\"#9c179e\"],[0.4444444444444444,\"#bd3786\"],[0.5555555555555556,\"#d8576b\"],[0.6666666666666666,\"#ed7953\"],[0.7777777777777778,\"#fb9f3a\"],[0.8888888888888888,\"#fdca26\"],[1.0,\"#f0f921\"]]}],\"surface\":[{\"type\":\"surface\",\"colorbar\":{\"outlinewidth\":0,\"ticks\":\"\"},\"colorscale\":[[0.0,\"#0d0887\"],[0.1111111111111111,\"#46039f\"],[0.2222222222222222,\"#7201a8\"],[0.3333333333333333,\"#9c179e\"],[0.4444444444444444,\"#bd3786\"],[0.5555555555555556,\"#d8576b\"],[0.6666666666666666,\"#ed7953\"],[0.7777777777777778,\"#fb9f3a\"],[0.8888888888888888,\"#fdca26\"],[1.0,\"#f0f921\"]]}],\"mesh3d\":[{\"type\":\"mesh3d\",\"colorbar\":{\"outlinewidth\":0,\"ticks\":\"\"}}],\"scatter\":[{\"fillpattern\":{\"fillmode\":\"overlay\",\"size\":10,\"solidity\":0.2},\"type\":\"scatter\"}],\"parcoords\":[{\"type\":\"parcoords\",\"line\":{\"colorbar\":{\"outlinewidth\":0,\"ticks\":\"\"}}}],\"scatterpolargl\":[{\"type\":\"scatterpolargl\",\"marker\":{\"colorbar\":{\"outlinewidth\":0,\"ticks\":\"\"}}}],\"bar\":[{\"error_x\":{\"color\":\"#2a3f5f\"},\"error_y\":{\"color\":\"#2a3f5f\"},\"marker\":{\"line\":{\"color\":\"#E5ECF6\",\"width\":0.5},\"pattern\":{\"fillmode\":\"overlay\",\"size\":10,\"solidity\":0.2}},\"type\":\"bar\"}],\"scattergeo\":[{\"type\":\"scattergeo\",\"marker\":{\"colorbar\":{\"outlinewidth\":0,\"ticks\":\"\"}}}],\"scatterpolar\":[{\"type\":\"scatterpolar\",\"marker\":{\"colorbar\":{\"outlinewidth\":0,\"ticks\":\"\"}}}],\"histogram\":[{\"marker\":{\"pattern\":{\"fillmode\":\"overlay\",\"size\":10,\"solidity\":0.2}},\"type\":\"histogram\"}],\"scattergl\":[{\"type\":\"scattergl\",\"marker\":{\"colorbar\":{\"outlinewidth\":0,\"ticks\":\"\"}}}],\"scatter3d\":[{\"type\":\"scatter3d\",\"line\":{\"colorbar\":{\"outlinewidth\":0,\"ticks\":\"\"}},\"marker\":{\"colorbar\":{\"outlinewidth\":0,\"ticks\":\"\"}}}],\"scattermapbox\":[{\"type\":\"scattermapbox\",\"marker\":{\"colorbar\":{\"outlinewidth\":0,\"ticks\":\"\"}}}],\"scatterternary\":[{\"type\":\"scatterternary\",\"marker\":{\"colorbar\":{\"outlinewidth\":0,\"ticks\":\"\"}}}],\"scattercarpet\":[{\"type\":\"scattercarpet\",\"marker\":{\"colorbar\":{\"outlinewidth\":0,\"ticks\":\"\"}}}],\"carpet\":[{\"aaxis\":{\"endlinecolor\":\"#2a3f5f\",\"gridcolor\":\"white\",\"linecolor\":\"white\",\"minorgridcolor\":\"white\",\"startlinecolor\":\"#2a3f5f\"},\"baxis\":{\"endlinecolor\":\"#2a3f5f\",\"gridcolor\":\"white\",\"linecolor\":\"white\",\"minorgridcolor\":\"white\",\"startlinecolor\":\"#2a3f5f\"},\"type\":\"carpet\"}],\"table\":[{\"cells\":{\"fill\":{\"color\":\"#EBF0F8\"},\"line\":{\"color\":\"white\"}},\"header\":{\"fill\":{\"color\":\"#C8D4E3\"},\"line\":{\"color\":\"white\"}},\"type\":\"table\"}],\"barpolar\":[{\"marker\":{\"line\":{\"color\":\"#E5ECF6\",\"width\":0.5},\"pattern\":{\"fillmode\":\"overlay\",\"size\":10,\"solidity\":0.2}},\"type\":\"barpolar\"}],\"pie\":[{\"automargin\":true,\"type\":\"pie\"}]},\"layout\":{\"autotypenumbers\":\"strict\",\"colorway\":[\"#636efa\",\"#EF553B\",\"#00cc96\",\"#ab63fa\",\"#FFA15A\",\"#19d3f3\",\"#FF6692\",\"#B6E880\",\"#FF97FF\",\"#FECB52\"],\"font\":{\"color\":\"#2a3f5f\"},\"hovermode\":\"closest\",\"hoverlabel\":{\"align\":\"left\"},\"paper_bgcolor\":\"white\",\"plot_bgcolor\":\"#E5ECF6\",\"polar\":{\"bgcolor\":\"#E5ECF6\",\"angularaxis\":{\"gridcolor\":\"white\",\"linecolor\":\"white\",\"ticks\":\"\"},\"radialaxis\":{\"gridcolor\":\"white\",\"linecolor\":\"white\",\"ticks\":\"\"}},\"ternary\":{\"bgcolor\":\"#E5ECF6\",\"aaxis\":{\"gridcolor\":\"white\",\"linecolor\":\"white\",\"ticks\":\"\"},\"baxis\":{\"gridcolor\":\"white\",\"linecolor\":\"white\",\"ticks\":\"\"},\"caxis\":{\"gridcolor\":\"white\",\"linecolor\":\"white\",\"ticks\":\"\"}},\"coloraxis\":{\"colorbar\":{\"outlinewidth\":0,\"ticks\":\"\"}},\"colorscale\":{\"sequential\":[[0.0,\"#0d0887\"],[0.1111111111111111,\"#46039f\"],[0.2222222222222222,\"#7201a8\"],[0.3333333333333333,\"#9c179e\"],[0.4444444444444444,\"#bd3786\"],[0.5555555555555556,\"#d8576b\"],[0.6666666666666666,\"#ed7953\"],[0.7777777777777778,\"#fb9f3a\"],[0.8888888888888888,\"#fdca26\"],[1.0,\"#f0f921\"]],\"sequentialminus\":[[0.0,\"#0d0887\"],[0.1111111111111111,\"#46039f\"],[0.2222222222222222,\"#7201a8\"],[0.3333333333333333,\"#9c179e\"],[0.4444444444444444,\"#bd3786\"],[0.5555555555555556,\"#d8576b\"],[0.6666666666666666,\"#ed7953\"],[0.7777777777777778,\"#fb9f3a\"],[0.8888888888888888,\"#fdca26\"],[1.0,\"#f0f921\"]],\"diverging\":[[0,\"#8e0152\"],[0.1,\"#c51b7d\"],[0.2,\"#de77ae\"],[0.3,\"#f1b6da\"],[0.4,\"#fde0ef\"],[0.5,\"#f7f7f7\"],[0.6,\"#e6f5d0\"],[0.7,\"#b8e186\"],[0.8,\"#7fbc41\"],[0.9,\"#4d9221\"],[1,\"#276419\"]]},\"xaxis\":{\"gridcolor\":\"white\",\"linecolor\":\"white\",\"ticks\":\"\",\"title\":{\"standoff\":15},\"zerolinecolor\":\"white\",\"automargin\":true,\"zerolinewidth\":2},\"yaxis\":{\"gridcolor\":\"white\",\"linecolor\":\"white\",\"ticks\":\"\",\"title\":{\"standoff\":15},\"zerolinecolor\":\"white\",\"automargin\":true,\"zerolinewidth\":2},\"scene\":{\"xaxis\":{\"backgroundcolor\":\"#E5ECF6\",\"gridcolor\":\"white\",\"linecolor\":\"white\",\"showbackground\":true,\"ticks\":\"\",\"zerolinecolor\":\"white\",\"gridwidth\":2},\"yaxis\":{\"backgroundcolor\":\"#E5ECF6\",\"gridcolor\":\"white\",\"linecolor\":\"white\",\"showbackground\":true,\"ticks\":\"\",\"zerolinecolor\":\"white\",\"gridwidth\":2},\"zaxis\":{\"backgroundcolor\":\"#E5ECF6\",\"gridcolor\":\"white\",\"linecolor\":\"white\",\"showbackground\":true,\"ticks\":\"\",\"zerolinecolor\":\"white\",\"gridwidth\":2}},\"shapedefaults\":{\"line\":{\"color\":\"#2a3f5f\"}},\"annotationdefaults\":{\"arrowcolor\":\"#2a3f5f\",\"arrowhead\":0,\"arrowwidth\":1},\"geo\":{\"bgcolor\":\"white\",\"landcolor\":\"#E5ECF6\",\"subunitcolor\":\"white\",\"showland\":true,\"showlakes\":true,\"lakecolor\":\"white\"},\"title\":{\"x\":0.05},\"mapbox\":{\"style\":\"light\"}}},\"xaxis\":{\"anchor\":\"y\",\"domain\":[0.0,1.0],\"title\":{\"text\":\"Fecha\"},\"dtick\":\"D1\"},\"yaxis\":{\"anchor\":\"x\",\"domain\":[0.0,1.0],\"title\":{\"text\":\"Hora del d\\u00eda\"},\"tickvals\":[539,540,541,660],\"ticktext\":[\"08:59:00\",\"09:00:00\",\"09:01:00\"],\"range\":[538,542]},\"legend\":{\"tracegroupgap\":0},\"title\":{\"text\":\"Diagrama de dispersi\\u00f3n para \\u00c1rea 1 Ma\\u00f1ana (RMSE: 13.42 segundos)\"},\"shapes\":[{\"line\":{\"color\":\"Red\",\"width\":2},\"type\":\"line\",\"x0\":\"2024-07-01T00:00:00\",\"x1\":\"2024-07-31T00:00:00\",\"y0\":540,\"y1\":540},{\"line\":{\"color\":\"gray\",\"dash\":\"dash\",\"width\":2},\"type\":\"line\",\"x0\":\"2024-07-01T00:00:00\",\"x1\":\"2024-07-31T00:00:00\",\"y0\":539,\"y1\":539},{\"line\":{\"color\":\"gray\",\"dash\":\"dash\",\"width\":2},\"type\":\"line\",\"x0\":\"2024-07-01T00:00:00\",\"x1\":\"2024-07-31T00:00:00\",\"y0\":541,\"y1\":541}],\"plot_bgcolor\":\"white\",\"paper_bgcolor\":\"white\"},                        {\"responsive\": true}                    ).then(function(){\n",
              "                            \n",
              "var gd = document.getElementById('4e45b858-31f1-446b-acca-6c64353df42c');\n",
              "var x = new MutationObserver(function (mutations, observer) {{\n",
              "        var display = window.getComputedStyle(gd).display;\n",
              "        if (!display || display === 'none') {{\n",
              "            console.log([gd, 'removed!']);\n",
              "            Plotly.purge(gd);\n",
              "            observer.disconnect();\n",
              "        }}\n",
              "}});\n",
              "\n",
              "// Listen for the removal of the full notebook cells\n",
              "var notebookContainer = gd.closest('#notebook-container');\n",
              "if (notebookContainer) {{\n",
              "    x.observe(notebookContainer, {childList: true});\n",
              "}}\n",
              "\n",
              "// Listen for the clearing of the current output cell\n",
              "var outputEl = gd.closest('.output');\n",
              "if (outputEl) {{\n",
              "    x.observe(outputEl, {childList: true});\n",
              "}}\n",
              "\n",
              "                        })                };                            </script>        </div>\n",
              "</body>\n",
              "</html>"
            ]
          },
          "metadata": {}
        }
      ]
    },
    {
      "cell_type": "code",
      "source": [
        "# Filtrar las horas después de las 12:00 pm\n",
        "df_filtered_tarde_a = df[df['hora'] > datetime.strptime('12:00:00', '%H:%M:%S').time()]\n",
        "df_filtered_tarde = df_filtered_tarde_a[df_filtered_tarde_a['area'] == 1]\n",
        "\n",
        "# Convertir la hora en minutos de diferencia respecto a las 3:00 pm\n",
        "hora_referencia_area1t = datetime.strptime('15:00:00', '%H:%M:%S').time()\n",
        "df_filtered_tarde['desviacion_minutos'] = df_filtered_tarde['hora'].apply(\n",
        "    lambda t: (datetime.combine(datetime.today(), t) - datetime.combine(datetime.today(), hora_referencia_area1t)).total_seconds() / 60)\n",
        "\n",
        "# Calcular el RMSE\n",
        "rmse_area1t = np.sqrt(np.mean(df_filtered_tarde['desviacion_minutos']**2))\n",
        "\n",
        "# Filtrar solo los registros con área = 1\n",
        "df_area1 = df_filtered_tarde[df_filtered_tarde['area'] == 1]\n",
        "\n",
        "# Convertir la hora en minutos desde la medianoche para el área 1\n",
        "df_area1['hora_minutos'] = df_area1['hora'].apply(lambda t: t.hour * 60 + t.minute + t.second / 60)\n",
        "\n",
        "# Generar el gráfico de dispersión para área = 1\n",
        "fig_area1t = px.scatter(df_area1, x='fecha', y='hora_minutos', title=f'Diagrama de dispersión para Área 1 Tarde (RMSE: {60*rmse_area1t:.2f} segundos)',\n",
        "                 labels={'hora_minutos': 'Hora', 'fecha': 'Fecha'})\n",
        "\n",
        "# Añadir la línea de referencia en 3:00 pm (900 minutos desde medianoche)\n",
        "fig_area1t.add_shape(type=\"line\", x0=min(df_area1['fecha']), x1=max(df_area1['fecha']), y0=900, y1=900,\n",
        "              line=dict(color=\"Red\", width=2))\n",
        "\n",
        "# Añadir la línea de referencia en 8:59 am (539 minutos desde medianoche)\n",
        "fig_area1t.add_shape(type=\"line\", x0=min(df_area1['fecha']), x1=max(df_area1['fecha']), y0=899, y1=899,\n",
        "              line=dict(color=\"gray\", width=2, dash=\"dash\"))\n",
        "\n",
        "# Añadir la línea de referencia en 9:01 am (541 minutos desde medianoche)\n",
        "fig_area1t.add_shape(type=\"line\", x0=min(df_area1['fecha']), x1=max(df_area1['fecha']), y0=901, y1=901,\n",
        "              line=dict(color=\"gray\", width=2, dash=\"dash\"))\n",
        "\n",
        "# Actualizar el espaciado de las fechas para que sea diario\n",
        "fig_area1t.update_xaxes(dtick=\"D1\")  # Mostrar ticks diarios en el eje X\n",
        "\n",
        "# Añadir etiquetas en el eje Y en formato HH:MM:SS\n",
        "fig_area1t.update_layout(\n",
        "    yaxis=dict(\n",
        "        tickvals=[899, 900, 901],\n",
        "        ticktext=[\"14:59:00\", \"15:00:00\", \"15:01:00\"]\n",
        "    ),\n",
        "    yaxis_title=\"Hora del día\",\n",
        "    xaxis_title=\"Fecha\",\n",
        "    plot_bgcolor='white',  # Fondo del área de trazado\n",
        "    paper_bgcolor='white'  # Fondo del papel del gráfico\n",
        ")\n",
        "\n",
        "# Establecer el rango del eje Y en minutos\n",
        "fig_area1t.update_yaxes(range=[898, 902])  # 897 minutos = 15:00, 903 minutos = 15:03\n",
        "\n",
        "# Mostrar gráfico\n",
        "fig_area1t.show()"
      ],
      "metadata": {
        "id": "Vhx4wlbdbDJb",
        "colab": {
          "base_uri": "https://localhost:8080/",
          "height": 688
        },
        "outputId": "968beb08-7724-4111-86a1-ba6471e2fd90"
      },
      "execution_count": 31,
      "outputs": [
        {
          "output_type": "stream",
          "name": "stderr",
          "text": [
            "<ipython-input-31-02c8f4e85ae0>:7: SettingWithCopyWarning:\n",
            "\n",
            "\n",
            "A value is trying to be set on a copy of a slice from a DataFrame.\n",
            "Try using .loc[row_indexer,col_indexer] = value instead\n",
            "\n",
            "See the caveats in the documentation: https://pandas.pydata.org/pandas-docs/stable/user_guide/indexing.html#returning-a-view-versus-a-copy\n",
            "\n"
          ]
        },
        {
          "output_type": "display_data",
          "data": {
            "text/html": [
              "<html>\n",
              "<head><meta charset=\"utf-8\" /></head>\n",
              "<body>\n",
              "    <div>            <script src=\"https://cdnjs.cloudflare.com/ajax/libs/mathjax/2.7.5/MathJax.js?config=TeX-AMS-MML_SVG\"></script><script type=\"text/javascript\">if (window.MathJax && window.MathJax.Hub && window.MathJax.Hub.Config) {window.MathJax.Hub.Config({SVG: {font: \"STIX-Web\"}});}</script>                <script type=\"text/javascript\">window.PlotlyConfig = {MathJaxConfig: 'local'};</script>\n",
              "        <script charset=\"utf-8\" src=\"https://cdn.plot.ly/plotly-2.35.2.min.js\"></script>                <div id=\"23df5754-b02b-4e73-a6e6-57f3b087cfc9\" class=\"plotly-graph-div\" style=\"height:525px; width:100%;\"></div>            <script type=\"text/javascript\">                                    window.PLOTLYENV=window.PLOTLYENV || {};                                    if (document.getElementById(\"23df5754-b02b-4e73-a6e6-57f3b087cfc9\")) {                    Plotly.newPlot(                        \"23df5754-b02b-4e73-a6e6-57f3b087cfc9\",                        [{\"hovertemplate\":\"Fecha=%{x}\\u003cbr\\u003eHora=%{y}\\u003cextra\\u003e\\u003c\\u002fextra\\u003e\",\"legendgroup\":\"\",\"marker\":{\"color\":\"#636efa\",\"symbol\":\"circle\"},\"mode\":\"markers\",\"name\":\"\",\"orientation\":\"v\",\"showlegend\":false,\"x\":[\"2024-07-16T00:00:00\",\"2024-07-18T00:00:00\",\"2024-07-10T00:00:00\",\"2024-07-28T00:00:00\",\"2024-07-24T00:00:00\",\"2024-07-17T00:00:00\",\"2024-07-20T00:00:00\",\"2024-07-05T00:00:00\",\"2024-07-30T00:00:00\",\"2024-07-12T00:00:00\",\"2024-07-14T00:00:00\",\"2024-07-26T00:00:00\",\"2024-07-22T00:00:00\",\"2024-07-23T00:00:00\",\"2024-07-27T00:00:00\",\"2024-07-11T00:00:00\",\"2024-07-01T00:00:00\",\"2024-07-04T00:00:00\",\"2024-07-06T00:00:00\",\"2024-07-13T00:00:00\",\"2024-07-02T00:00:00\",\"2024-07-09T00:00:00\",\"2024-07-03T00:00:00\",\"2024-07-25T00:00:00\",\"2024-07-15T00:00:00\",\"2024-07-07T00:00:00\",\"2024-07-19T00:00:00\",\"2024-07-21T00:00:00\",\"2024-07-08T00:00:00\",\"2024-07-29T00:00:00\",\"2024-07-31T00:00:00\"],\"xaxis\":\"x\",\"y\":[900.15,900.45,900.1333333333333,900.1833333333333,900.3833333333333,900.3833333333333,900.25,900.1333333333333,900.4833333333333,900.35,900.3833333333333,900.4666666666667,900.2166666666667,900.05,900.15,900.1166666666667,900.4,900.25,900.2833333333333,900.0833333333334,900.2666666666667,900.3,900.2833333333333,900.4166666666666,900.45,900.4,900.2666666666667,900.1666666666666,900.4833333333333,900.1166666666667,900.3166666666667],\"yaxis\":\"y\",\"type\":\"scatter\"}],                        {\"template\":{\"data\":{\"histogram2dcontour\":[{\"type\":\"histogram2dcontour\",\"colorbar\":{\"outlinewidth\":0,\"ticks\":\"\"},\"colorscale\":[[0.0,\"#0d0887\"],[0.1111111111111111,\"#46039f\"],[0.2222222222222222,\"#7201a8\"],[0.3333333333333333,\"#9c179e\"],[0.4444444444444444,\"#bd3786\"],[0.5555555555555556,\"#d8576b\"],[0.6666666666666666,\"#ed7953\"],[0.7777777777777778,\"#fb9f3a\"],[0.8888888888888888,\"#fdca26\"],[1.0,\"#f0f921\"]]}],\"choropleth\":[{\"type\":\"choropleth\",\"colorbar\":{\"outlinewidth\":0,\"ticks\":\"\"}}],\"histogram2d\":[{\"type\":\"histogram2d\",\"colorbar\":{\"outlinewidth\":0,\"ticks\":\"\"},\"colorscale\":[[0.0,\"#0d0887\"],[0.1111111111111111,\"#46039f\"],[0.2222222222222222,\"#7201a8\"],[0.3333333333333333,\"#9c179e\"],[0.4444444444444444,\"#bd3786\"],[0.5555555555555556,\"#d8576b\"],[0.6666666666666666,\"#ed7953\"],[0.7777777777777778,\"#fb9f3a\"],[0.8888888888888888,\"#fdca26\"],[1.0,\"#f0f921\"]]}],\"heatmap\":[{\"type\":\"heatmap\",\"colorbar\":{\"outlinewidth\":0,\"ticks\":\"\"},\"colorscale\":[[0.0,\"#0d0887\"],[0.1111111111111111,\"#46039f\"],[0.2222222222222222,\"#7201a8\"],[0.3333333333333333,\"#9c179e\"],[0.4444444444444444,\"#bd3786\"],[0.5555555555555556,\"#d8576b\"],[0.6666666666666666,\"#ed7953\"],[0.7777777777777778,\"#fb9f3a\"],[0.8888888888888888,\"#fdca26\"],[1.0,\"#f0f921\"]]}],\"heatmapgl\":[{\"type\":\"heatmapgl\",\"colorbar\":{\"outlinewidth\":0,\"ticks\":\"\"},\"colorscale\":[[0.0,\"#0d0887\"],[0.1111111111111111,\"#46039f\"],[0.2222222222222222,\"#7201a8\"],[0.3333333333333333,\"#9c179e\"],[0.4444444444444444,\"#bd3786\"],[0.5555555555555556,\"#d8576b\"],[0.6666666666666666,\"#ed7953\"],[0.7777777777777778,\"#fb9f3a\"],[0.8888888888888888,\"#fdca26\"],[1.0,\"#f0f921\"]]}],\"contourcarpet\":[{\"type\":\"contourcarpet\",\"colorbar\":{\"outlinewidth\":0,\"ticks\":\"\"}}],\"contour\":[{\"type\":\"contour\",\"colorbar\":{\"outlinewidth\":0,\"ticks\":\"\"},\"colorscale\":[[0.0,\"#0d0887\"],[0.1111111111111111,\"#46039f\"],[0.2222222222222222,\"#7201a8\"],[0.3333333333333333,\"#9c179e\"],[0.4444444444444444,\"#bd3786\"],[0.5555555555555556,\"#d8576b\"],[0.6666666666666666,\"#ed7953\"],[0.7777777777777778,\"#fb9f3a\"],[0.8888888888888888,\"#fdca26\"],[1.0,\"#f0f921\"]]}],\"surface\":[{\"type\":\"surface\",\"colorbar\":{\"outlinewidth\":0,\"ticks\":\"\"},\"colorscale\":[[0.0,\"#0d0887\"],[0.1111111111111111,\"#46039f\"],[0.2222222222222222,\"#7201a8\"],[0.3333333333333333,\"#9c179e\"],[0.4444444444444444,\"#bd3786\"],[0.5555555555555556,\"#d8576b\"],[0.6666666666666666,\"#ed7953\"],[0.7777777777777778,\"#fb9f3a\"],[0.8888888888888888,\"#fdca26\"],[1.0,\"#f0f921\"]]}],\"mesh3d\":[{\"type\":\"mesh3d\",\"colorbar\":{\"outlinewidth\":0,\"ticks\":\"\"}}],\"scatter\":[{\"fillpattern\":{\"fillmode\":\"overlay\",\"size\":10,\"solidity\":0.2},\"type\":\"scatter\"}],\"parcoords\":[{\"type\":\"parcoords\",\"line\":{\"colorbar\":{\"outlinewidth\":0,\"ticks\":\"\"}}}],\"scatterpolargl\":[{\"type\":\"scatterpolargl\",\"marker\":{\"colorbar\":{\"outlinewidth\":0,\"ticks\":\"\"}}}],\"bar\":[{\"error_x\":{\"color\":\"#2a3f5f\"},\"error_y\":{\"color\":\"#2a3f5f\"},\"marker\":{\"line\":{\"color\":\"#E5ECF6\",\"width\":0.5},\"pattern\":{\"fillmode\":\"overlay\",\"size\":10,\"solidity\":0.2}},\"type\":\"bar\"}],\"scattergeo\":[{\"type\":\"scattergeo\",\"marker\":{\"colorbar\":{\"outlinewidth\":0,\"ticks\":\"\"}}}],\"scatterpolar\":[{\"type\":\"scatterpolar\",\"marker\":{\"colorbar\":{\"outlinewidth\":0,\"ticks\":\"\"}}}],\"histogram\":[{\"marker\":{\"pattern\":{\"fillmode\":\"overlay\",\"size\":10,\"solidity\":0.2}},\"type\":\"histogram\"}],\"scattergl\":[{\"type\":\"scattergl\",\"marker\":{\"colorbar\":{\"outlinewidth\":0,\"ticks\":\"\"}}}],\"scatter3d\":[{\"type\":\"scatter3d\",\"line\":{\"colorbar\":{\"outlinewidth\":0,\"ticks\":\"\"}},\"marker\":{\"colorbar\":{\"outlinewidth\":0,\"ticks\":\"\"}}}],\"scattermapbox\":[{\"type\":\"scattermapbox\",\"marker\":{\"colorbar\":{\"outlinewidth\":0,\"ticks\":\"\"}}}],\"scatterternary\":[{\"type\":\"scatterternary\",\"marker\":{\"colorbar\":{\"outlinewidth\":0,\"ticks\":\"\"}}}],\"scattercarpet\":[{\"type\":\"scattercarpet\",\"marker\":{\"colorbar\":{\"outlinewidth\":0,\"ticks\":\"\"}}}],\"carpet\":[{\"aaxis\":{\"endlinecolor\":\"#2a3f5f\",\"gridcolor\":\"white\",\"linecolor\":\"white\",\"minorgridcolor\":\"white\",\"startlinecolor\":\"#2a3f5f\"},\"baxis\":{\"endlinecolor\":\"#2a3f5f\",\"gridcolor\":\"white\",\"linecolor\":\"white\",\"minorgridcolor\":\"white\",\"startlinecolor\":\"#2a3f5f\"},\"type\":\"carpet\"}],\"table\":[{\"cells\":{\"fill\":{\"color\":\"#EBF0F8\"},\"line\":{\"color\":\"white\"}},\"header\":{\"fill\":{\"color\":\"#C8D4E3\"},\"line\":{\"color\":\"white\"}},\"type\":\"table\"}],\"barpolar\":[{\"marker\":{\"line\":{\"color\":\"#E5ECF6\",\"width\":0.5},\"pattern\":{\"fillmode\":\"overlay\",\"size\":10,\"solidity\":0.2}},\"type\":\"barpolar\"}],\"pie\":[{\"automargin\":true,\"type\":\"pie\"}]},\"layout\":{\"autotypenumbers\":\"strict\",\"colorway\":[\"#636efa\",\"#EF553B\",\"#00cc96\",\"#ab63fa\",\"#FFA15A\",\"#19d3f3\",\"#FF6692\",\"#B6E880\",\"#FF97FF\",\"#FECB52\"],\"font\":{\"color\":\"#2a3f5f\"},\"hovermode\":\"closest\",\"hoverlabel\":{\"align\":\"left\"},\"paper_bgcolor\":\"white\",\"plot_bgcolor\":\"#E5ECF6\",\"polar\":{\"bgcolor\":\"#E5ECF6\",\"angularaxis\":{\"gridcolor\":\"white\",\"linecolor\":\"white\",\"ticks\":\"\"},\"radialaxis\":{\"gridcolor\":\"white\",\"linecolor\":\"white\",\"ticks\":\"\"}},\"ternary\":{\"bgcolor\":\"#E5ECF6\",\"aaxis\":{\"gridcolor\":\"white\",\"linecolor\":\"white\",\"ticks\":\"\"},\"baxis\":{\"gridcolor\":\"white\",\"linecolor\":\"white\",\"ticks\":\"\"},\"caxis\":{\"gridcolor\":\"white\",\"linecolor\":\"white\",\"ticks\":\"\"}},\"coloraxis\":{\"colorbar\":{\"outlinewidth\":0,\"ticks\":\"\"}},\"colorscale\":{\"sequential\":[[0.0,\"#0d0887\"],[0.1111111111111111,\"#46039f\"],[0.2222222222222222,\"#7201a8\"],[0.3333333333333333,\"#9c179e\"],[0.4444444444444444,\"#bd3786\"],[0.5555555555555556,\"#d8576b\"],[0.6666666666666666,\"#ed7953\"],[0.7777777777777778,\"#fb9f3a\"],[0.8888888888888888,\"#fdca26\"],[1.0,\"#f0f921\"]],\"sequentialminus\":[[0.0,\"#0d0887\"],[0.1111111111111111,\"#46039f\"],[0.2222222222222222,\"#7201a8\"],[0.3333333333333333,\"#9c179e\"],[0.4444444444444444,\"#bd3786\"],[0.5555555555555556,\"#d8576b\"],[0.6666666666666666,\"#ed7953\"],[0.7777777777777778,\"#fb9f3a\"],[0.8888888888888888,\"#fdca26\"],[1.0,\"#f0f921\"]],\"diverging\":[[0,\"#8e0152\"],[0.1,\"#c51b7d\"],[0.2,\"#de77ae\"],[0.3,\"#f1b6da\"],[0.4,\"#fde0ef\"],[0.5,\"#f7f7f7\"],[0.6,\"#e6f5d0\"],[0.7,\"#b8e186\"],[0.8,\"#7fbc41\"],[0.9,\"#4d9221\"],[1,\"#276419\"]]},\"xaxis\":{\"gridcolor\":\"white\",\"linecolor\":\"white\",\"ticks\":\"\",\"title\":{\"standoff\":15},\"zerolinecolor\":\"white\",\"automargin\":true,\"zerolinewidth\":2},\"yaxis\":{\"gridcolor\":\"white\",\"linecolor\":\"white\",\"ticks\":\"\",\"title\":{\"standoff\":15},\"zerolinecolor\":\"white\",\"automargin\":true,\"zerolinewidth\":2},\"scene\":{\"xaxis\":{\"backgroundcolor\":\"#E5ECF6\",\"gridcolor\":\"white\",\"linecolor\":\"white\",\"showbackground\":true,\"ticks\":\"\",\"zerolinecolor\":\"white\",\"gridwidth\":2},\"yaxis\":{\"backgroundcolor\":\"#E5ECF6\",\"gridcolor\":\"white\",\"linecolor\":\"white\",\"showbackground\":true,\"ticks\":\"\",\"zerolinecolor\":\"white\",\"gridwidth\":2},\"zaxis\":{\"backgroundcolor\":\"#E5ECF6\",\"gridcolor\":\"white\",\"linecolor\":\"white\",\"showbackground\":true,\"ticks\":\"\",\"zerolinecolor\":\"white\",\"gridwidth\":2}},\"shapedefaults\":{\"line\":{\"color\":\"#2a3f5f\"}},\"annotationdefaults\":{\"arrowcolor\":\"#2a3f5f\",\"arrowhead\":0,\"arrowwidth\":1},\"geo\":{\"bgcolor\":\"white\",\"landcolor\":\"#E5ECF6\",\"subunitcolor\":\"white\",\"showland\":true,\"showlakes\":true,\"lakecolor\":\"white\"},\"title\":{\"x\":0.05},\"mapbox\":{\"style\":\"light\"}}},\"xaxis\":{\"anchor\":\"y\",\"domain\":[0.0,1.0],\"title\":{\"text\":\"Fecha\"},\"dtick\":\"D1\"},\"yaxis\":{\"anchor\":\"x\",\"domain\":[0.0,1.0],\"title\":{\"text\":\"Hora del d\\u00eda\"},\"tickvals\":[899,900,901],\"ticktext\":[\"14:59:00\",\"15:00:00\",\"15:01:00\"],\"range\":[898,902]},\"legend\":{\"tracegroupgap\":0},\"title\":{\"text\":\"Diagrama de dispersi\\u00f3n para \\u00c1rea 1 Tarde (RMSE: 18.64 segundos)\"},\"shapes\":[{\"line\":{\"color\":\"Red\",\"width\":2},\"type\":\"line\",\"x0\":\"2024-07-01T00:00:00\",\"x1\":\"2024-07-31T00:00:00\",\"y0\":900,\"y1\":900},{\"line\":{\"color\":\"gray\",\"dash\":\"dash\",\"width\":2},\"type\":\"line\",\"x0\":\"2024-07-01T00:00:00\",\"x1\":\"2024-07-31T00:00:00\",\"y0\":899,\"y1\":899},{\"line\":{\"color\":\"gray\",\"dash\":\"dash\",\"width\":2},\"type\":\"line\",\"x0\":\"2024-07-01T00:00:00\",\"x1\":\"2024-07-31T00:00:00\",\"y0\":901,\"y1\":901}],\"plot_bgcolor\":\"white\",\"paper_bgcolor\":\"white\"},                        {\"responsive\": true}                    ).then(function(){\n",
              "                            \n",
              "var gd = document.getElementById('23df5754-b02b-4e73-a6e6-57f3b087cfc9');\n",
              "var x = new MutationObserver(function (mutations, observer) {{\n",
              "        var display = window.getComputedStyle(gd).display;\n",
              "        if (!display || display === 'none') {{\n",
              "            console.log([gd, 'removed!']);\n",
              "            Plotly.purge(gd);\n",
              "            observer.disconnect();\n",
              "        }}\n",
              "}});\n",
              "\n",
              "// Listen for the removal of the full notebook cells\n",
              "var notebookContainer = gd.closest('#notebook-container');\n",
              "if (notebookContainer) {{\n",
              "    x.observe(notebookContainer, {childList: true});\n",
              "}}\n",
              "\n",
              "// Listen for the clearing of the current output cell\n",
              "var outputEl = gd.closest('.output');\n",
              "if (outputEl) {{\n",
              "    x.observe(outputEl, {childList: true});\n",
              "}}\n",
              "\n",
              "                        })                };                            </script>        </div>\n",
              "</body>\n",
              "</html>"
            ]
          },
          "metadata": {}
        }
      ]
    },
    {
      "cell_type": "code",
      "source": [
        "# Filtrar las horas antes de las 12:00 pm\n",
        "df_filtered_area2m_a = df[df['hora'] < datetime.strptime('12:00:00', '%H:%M:%S').time()]\n",
        "df_filtered_area2m = df_filtered_area2m_a[df_filtered_area2m_a['area'] == 2]\n",
        "\n",
        "# Convertir la hora en minutos de diferencia respecto a las 9:00 am\n",
        "hora_referencia_area2m = datetime.strptime('09:00:00', '%H:%M:%S').time()\n",
        "df_filtered_area2m['desviacion_minutos'] = df_filtered_area2m['hora'].apply(\n",
        "    lambda t: (datetime.combine(datetime.today(), t) - datetime.combine(datetime.today(), hora_referencia_area2m)).total_seconds() / 60)\n",
        "\n",
        "\n",
        "# Calcular el RMSE\n",
        "rmse_area2m = np.sqrt(np.mean(df_filtered_area2m['desviacion_minutos']**2))\n",
        "\n",
        "# Filtrar solo los registros con area = 2\n",
        "df_area2 = df_filtered_area2m[df_filtered_area2m['area'] == 2]\n",
        "\n",
        "\n",
        "# Convertir la hora en minutos desde la medianoche para el área 2\n",
        "df_area2['hora_minutos'] = df_area2['hora'].apply(lambda t: t.hour * 60 + t.minute + t.second / 60)\n",
        "\n",
        "\n",
        "# Generar el gráfico de dispersión para área = 2\n",
        "fig_area2m = px.scatter(df_area2, x='fecha', y='hora_minutos', title=f'Diagrama de dispersión para Área 2 Mañana (RMSE: {60*rmse_area2m:.2f} segundos)',\n",
        "                 labels={'hora_minutos': 'Hora', 'fecha': 'Fecha'})\n",
        "\n",
        "\n",
        "# Añadir la línea de referencia en 9:00 am (540 minutos desde medianoche)\n",
        "fig_area2m.add_shape(type=\"line\", x0=min(df_area2['fecha']), x1=max(df_area2['fecha']), y0=540, y1=540,\n",
        "              line=dict(color=\"Red\", width=2, dash=\"dash\"))\n",
        "\n",
        "# Añadir la línea de referencia en 8:59 am (539 minutos desde medianoche)\n",
        "fig_area2m.add_shape(type=\"line\", x0=min(df_area1['fecha']), x1=max(df_area1['fecha']), y0=539, y1=539,\n",
        "              line=dict(color=\"gray\", width=2, dash=\"dash\"))\n",
        "\n",
        "# Añadir la línea de referencia en 9:01 am (541 minutos desde medianoche)\n",
        "fig_area2m.add_shape(type=\"line\", x0=min(df_area1['fecha']), x1=max(df_area1['fecha']), y0=541, y1=541,\n",
        "              line=dict(color=\"gray\", width=2, dash=\"dash\"))\n",
        "\n",
        "# Actualizar el espaciado de las fechas para que sea diario\n",
        "fig_area2m.update_xaxes(dtick=\"D1\")  # Mostrar ticks diarios en el eje X\n",
        "\n",
        "\n",
        "# Añadir etiquetas en el eje Y en formato HH:MM:SS\n",
        "fig_area2m.update_layout(\n",
        "    yaxis=dict(\n",
        "        tickvals=[539, 540, 541, 660],\n",
        "        ticktext=[\"08:59:00\", \"09:00:00\", \"09:01:00\"]\n",
        "    ),\n",
        "    yaxis_title=\"Hora del día\",\n",
        "    xaxis_title=\"Fecha\",\n",
        "    plot_bgcolor='white',  # Fondo del área de trazado\n",
        "    paper_bgcolor='white'  # Fondo del papel del gráfico\n",
        ")\n",
        "\n",
        "# Establecer el rango del eje Y en minutos\n",
        "fig_area2m.update_yaxes(range=[538, 542])  # 897 minutos = 15:00, 903 minutos = 15:03\n",
        "\n",
        "# Mostrar gráfico\n",
        "fig_area2m.show()"
      ],
      "metadata": {
        "id": "lz2c5C3cp2Zp",
        "colab": {
          "base_uri": "https://localhost:8080/",
          "height": 688
        },
        "outputId": "dc896c54-0c8c-4a61-feae-5d895528a857"
      },
      "execution_count": 32,
      "outputs": [
        {
          "output_type": "stream",
          "name": "stderr",
          "text": [
            "<ipython-input-32-4c805793878f>:7: SettingWithCopyWarning:\n",
            "\n",
            "\n",
            "A value is trying to be set on a copy of a slice from a DataFrame.\n",
            "Try using .loc[row_indexer,col_indexer] = value instead\n",
            "\n",
            "See the caveats in the documentation: https://pandas.pydata.org/pandas-docs/stable/user_guide/indexing.html#returning-a-view-versus-a-copy\n",
            "\n"
          ]
        },
        {
          "output_type": "display_data",
          "data": {
            "text/html": [
              "<html>\n",
              "<head><meta charset=\"utf-8\" /></head>\n",
              "<body>\n",
              "    <div>            <script src=\"https://cdnjs.cloudflare.com/ajax/libs/mathjax/2.7.5/MathJax.js?config=TeX-AMS-MML_SVG\"></script><script type=\"text/javascript\">if (window.MathJax && window.MathJax.Hub && window.MathJax.Hub.Config) {window.MathJax.Hub.Config({SVG: {font: \"STIX-Web\"}});}</script>                <script type=\"text/javascript\">window.PlotlyConfig = {MathJaxConfig: 'local'};</script>\n",
              "        <script charset=\"utf-8\" src=\"https://cdn.plot.ly/plotly-2.35.2.min.js\"></script>                <div id=\"8bc0882b-401b-4c81-b846-6eca8373c9bf\" class=\"plotly-graph-div\" style=\"height:525px; width:100%;\"></div>            <script type=\"text/javascript\">                                    window.PLOTLYENV=window.PLOTLYENV || {};                                    if (document.getElementById(\"8bc0882b-401b-4c81-b846-6eca8373c9bf\")) {                    Plotly.newPlot(                        \"8bc0882b-401b-4c81-b846-6eca8373c9bf\",                        [{\"hovertemplate\":\"Fecha=%{x}\\u003cbr\\u003eHora=%{y}\\u003cextra\\u003e\\u003c\\u002fextra\\u003e\",\"legendgroup\":\"\",\"marker\":{\"color\":\"#636efa\",\"symbol\":\"circle\"},\"mode\":\"markers\",\"name\":\"\",\"orientation\":\"v\",\"showlegend\":false,\"x\":[\"2024-07-02T00:00:00\",\"2024-07-01T00:00:00\",\"2024-07-03T00:00:00\",\"2024-07-06T00:00:00\",\"2024-07-05T00:00:00\",\"2024-07-04T00:00:00\",\"2024-07-07T00:00:00\",\"2024-07-20T00:00:00\",\"2024-07-28T00:00:00\",\"2024-07-26T00:00:00\",\"2024-07-14T00:00:00\",\"2024-07-30T00:00:00\",\"2024-07-24T00:00:00\",\"2024-07-12T00:00:00\",\"2024-07-16T00:00:00\",\"2024-07-19T00:00:00\",\"2024-07-18T00:00:00\",\"2024-07-10T00:00:00\",\"2024-07-22T00:00:00\",\"2024-07-11T00:00:00\",\"2024-07-17T00:00:00\",\"2024-07-23T00:00:00\",\"2024-07-13T00:00:00\",\"2024-07-31T00:00:00\",\"2024-07-25T00:00:00\",\"2024-07-27T00:00:00\",\"2024-07-09T00:00:00\",\"2024-07-21T00:00:00\",\"2024-07-29T00:00:00\",\"2024-07-15T00:00:00\",\"2024-07-08T00:00:00\"],\"xaxis\":\"x\",\"y\":[540.2333333333333,540.35,540.4,540.15,540.15,540.0333333333333,540.2833333333333,540.3333333333334,540.4666666666667,540.4,540.1833333333333,540.15,540.1333333333333,540.3166666666667,540.4666666666667,540.1833333333333,540.1,540.2333333333333,540.1166666666667,540.3833333333333,540.0333333333333,540.3666666666667,540.15,540.3666666666667,540.4,540.3833333333333,540.2333333333333,540.4166666666666,540.4666666666667,540.25,540.1],\"yaxis\":\"y\",\"type\":\"scatter\"}],                        {\"template\":{\"data\":{\"histogram2dcontour\":[{\"type\":\"histogram2dcontour\",\"colorbar\":{\"outlinewidth\":0,\"ticks\":\"\"},\"colorscale\":[[0.0,\"#0d0887\"],[0.1111111111111111,\"#46039f\"],[0.2222222222222222,\"#7201a8\"],[0.3333333333333333,\"#9c179e\"],[0.4444444444444444,\"#bd3786\"],[0.5555555555555556,\"#d8576b\"],[0.6666666666666666,\"#ed7953\"],[0.7777777777777778,\"#fb9f3a\"],[0.8888888888888888,\"#fdca26\"],[1.0,\"#f0f921\"]]}],\"choropleth\":[{\"type\":\"choropleth\",\"colorbar\":{\"outlinewidth\":0,\"ticks\":\"\"}}],\"histogram2d\":[{\"type\":\"histogram2d\",\"colorbar\":{\"outlinewidth\":0,\"ticks\":\"\"},\"colorscale\":[[0.0,\"#0d0887\"],[0.1111111111111111,\"#46039f\"],[0.2222222222222222,\"#7201a8\"],[0.3333333333333333,\"#9c179e\"],[0.4444444444444444,\"#bd3786\"],[0.5555555555555556,\"#d8576b\"],[0.6666666666666666,\"#ed7953\"],[0.7777777777777778,\"#fb9f3a\"],[0.8888888888888888,\"#fdca26\"],[1.0,\"#f0f921\"]]}],\"heatmap\":[{\"type\":\"heatmap\",\"colorbar\":{\"outlinewidth\":0,\"ticks\":\"\"},\"colorscale\":[[0.0,\"#0d0887\"],[0.1111111111111111,\"#46039f\"],[0.2222222222222222,\"#7201a8\"],[0.3333333333333333,\"#9c179e\"],[0.4444444444444444,\"#bd3786\"],[0.5555555555555556,\"#d8576b\"],[0.6666666666666666,\"#ed7953\"],[0.7777777777777778,\"#fb9f3a\"],[0.8888888888888888,\"#fdca26\"],[1.0,\"#f0f921\"]]}],\"heatmapgl\":[{\"type\":\"heatmapgl\",\"colorbar\":{\"outlinewidth\":0,\"ticks\":\"\"},\"colorscale\":[[0.0,\"#0d0887\"],[0.1111111111111111,\"#46039f\"],[0.2222222222222222,\"#7201a8\"],[0.3333333333333333,\"#9c179e\"],[0.4444444444444444,\"#bd3786\"],[0.5555555555555556,\"#d8576b\"],[0.6666666666666666,\"#ed7953\"],[0.7777777777777778,\"#fb9f3a\"],[0.8888888888888888,\"#fdca26\"],[1.0,\"#f0f921\"]]}],\"contourcarpet\":[{\"type\":\"contourcarpet\",\"colorbar\":{\"outlinewidth\":0,\"ticks\":\"\"}}],\"contour\":[{\"type\":\"contour\",\"colorbar\":{\"outlinewidth\":0,\"ticks\":\"\"},\"colorscale\":[[0.0,\"#0d0887\"],[0.1111111111111111,\"#46039f\"],[0.2222222222222222,\"#7201a8\"],[0.3333333333333333,\"#9c179e\"],[0.4444444444444444,\"#bd3786\"],[0.5555555555555556,\"#d8576b\"],[0.6666666666666666,\"#ed7953\"],[0.7777777777777778,\"#fb9f3a\"],[0.8888888888888888,\"#fdca26\"],[1.0,\"#f0f921\"]]}],\"surface\":[{\"type\":\"surface\",\"colorbar\":{\"outlinewidth\":0,\"ticks\":\"\"},\"colorscale\":[[0.0,\"#0d0887\"],[0.1111111111111111,\"#46039f\"],[0.2222222222222222,\"#7201a8\"],[0.3333333333333333,\"#9c179e\"],[0.4444444444444444,\"#bd3786\"],[0.5555555555555556,\"#d8576b\"],[0.6666666666666666,\"#ed7953\"],[0.7777777777777778,\"#fb9f3a\"],[0.8888888888888888,\"#fdca26\"],[1.0,\"#f0f921\"]]}],\"mesh3d\":[{\"type\":\"mesh3d\",\"colorbar\":{\"outlinewidth\":0,\"ticks\":\"\"}}],\"scatter\":[{\"fillpattern\":{\"fillmode\":\"overlay\",\"size\":10,\"solidity\":0.2},\"type\":\"scatter\"}],\"parcoords\":[{\"type\":\"parcoords\",\"line\":{\"colorbar\":{\"outlinewidth\":0,\"ticks\":\"\"}}}],\"scatterpolargl\":[{\"type\":\"scatterpolargl\",\"marker\":{\"colorbar\":{\"outlinewidth\":0,\"ticks\":\"\"}}}],\"bar\":[{\"error_x\":{\"color\":\"#2a3f5f\"},\"error_y\":{\"color\":\"#2a3f5f\"},\"marker\":{\"line\":{\"color\":\"#E5ECF6\",\"width\":0.5},\"pattern\":{\"fillmode\":\"overlay\",\"size\":10,\"solidity\":0.2}},\"type\":\"bar\"}],\"scattergeo\":[{\"type\":\"scattergeo\",\"marker\":{\"colorbar\":{\"outlinewidth\":0,\"ticks\":\"\"}}}],\"scatterpolar\":[{\"type\":\"scatterpolar\",\"marker\":{\"colorbar\":{\"outlinewidth\":0,\"ticks\":\"\"}}}],\"histogram\":[{\"marker\":{\"pattern\":{\"fillmode\":\"overlay\",\"size\":10,\"solidity\":0.2}},\"type\":\"histogram\"}],\"scattergl\":[{\"type\":\"scattergl\",\"marker\":{\"colorbar\":{\"outlinewidth\":0,\"ticks\":\"\"}}}],\"scatter3d\":[{\"type\":\"scatter3d\",\"line\":{\"colorbar\":{\"outlinewidth\":0,\"ticks\":\"\"}},\"marker\":{\"colorbar\":{\"outlinewidth\":0,\"ticks\":\"\"}}}],\"scattermapbox\":[{\"type\":\"scattermapbox\",\"marker\":{\"colorbar\":{\"outlinewidth\":0,\"ticks\":\"\"}}}],\"scatterternary\":[{\"type\":\"scatterternary\",\"marker\":{\"colorbar\":{\"outlinewidth\":0,\"ticks\":\"\"}}}],\"scattercarpet\":[{\"type\":\"scattercarpet\",\"marker\":{\"colorbar\":{\"outlinewidth\":0,\"ticks\":\"\"}}}],\"carpet\":[{\"aaxis\":{\"endlinecolor\":\"#2a3f5f\",\"gridcolor\":\"white\",\"linecolor\":\"white\",\"minorgridcolor\":\"white\",\"startlinecolor\":\"#2a3f5f\"},\"baxis\":{\"endlinecolor\":\"#2a3f5f\",\"gridcolor\":\"white\",\"linecolor\":\"white\",\"minorgridcolor\":\"white\",\"startlinecolor\":\"#2a3f5f\"},\"type\":\"carpet\"}],\"table\":[{\"cells\":{\"fill\":{\"color\":\"#EBF0F8\"},\"line\":{\"color\":\"white\"}},\"header\":{\"fill\":{\"color\":\"#C8D4E3\"},\"line\":{\"color\":\"white\"}},\"type\":\"table\"}],\"barpolar\":[{\"marker\":{\"line\":{\"color\":\"#E5ECF6\",\"width\":0.5},\"pattern\":{\"fillmode\":\"overlay\",\"size\":10,\"solidity\":0.2}},\"type\":\"barpolar\"}],\"pie\":[{\"automargin\":true,\"type\":\"pie\"}]},\"layout\":{\"autotypenumbers\":\"strict\",\"colorway\":[\"#636efa\",\"#EF553B\",\"#00cc96\",\"#ab63fa\",\"#FFA15A\",\"#19d3f3\",\"#FF6692\",\"#B6E880\",\"#FF97FF\",\"#FECB52\"],\"font\":{\"color\":\"#2a3f5f\"},\"hovermode\":\"closest\",\"hoverlabel\":{\"align\":\"left\"},\"paper_bgcolor\":\"white\",\"plot_bgcolor\":\"#E5ECF6\",\"polar\":{\"bgcolor\":\"#E5ECF6\",\"angularaxis\":{\"gridcolor\":\"white\",\"linecolor\":\"white\",\"ticks\":\"\"},\"radialaxis\":{\"gridcolor\":\"white\",\"linecolor\":\"white\",\"ticks\":\"\"}},\"ternary\":{\"bgcolor\":\"#E5ECF6\",\"aaxis\":{\"gridcolor\":\"white\",\"linecolor\":\"white\",\"ticks\":\"\"},\"baxis\":{\"gridcolor\":\"white\",\"linecolor\":\"white\",\"ticks\":\"\"},\"caxis\":{\"gridcolor\":\"white\",\"linecolor\":\"white\",\"ticks\":\"\"}},\"coloraxis\":{\"colorbar\":{\"outlinewidth\":0,\"ticks\":\"\"}},\"colorscale\":{\"sequential\":[[0.0,\"#0d0887\"],[0.1111111111111111,\"#46039f\"],[0.2222222222222222,\"#7201a8\"],[0.3333333333333333,\"#9c179e\"],[0.4444444444444444,\"#bd3786\"],[0.5555555555555556,\"#d8576b\"],[0.6666666666666666,\"#ed7953\"],[0.7777777777777778,\"#fb9f3a\"],[0.8888888888888888,\"#fdca26\"],[1.0,\"#f0f921\"]],\"sequentialminus\":[[0.0,\"#0d0887\"],[0.1111111111111111,\"#46039f\"],[0.2222222222222222,\"#7201a8\"],[0.3333333333333333,\"#9c179e\"],[0.4444444444444444,\"#bd3786\"],[0.5555555555555556,\"#d8576b\"],[0.6666666666666666,\"#ed7953\"],[0.7777777777777778,\"#fb9f3a\"],[0.8888888888888888,\"#fdca26\"],[1.0,\"#f0f921\"]],\"diverging\":[[0,\"#8e0152\"],[0.1,\"#c51b7d\"],[0.2,\"#de77ae\"],[0.3,\"#f1b6da\"],[0.4,\"#fde0ef\"],[0.5,\"#f7f7f7\"],[0.6,\"#e6f5d0\"],[0.7,\"#b8e186\"],[0.8,\"#7fbc41\"],[0.9,\"#4d9221\"],[1,\"#276419\"]]},\"xaxis\":{\"gridcolor\":\"white\",\"linecolor\":\"white\",\"ticks\":\"\",\"title\":{\"standoff\":15},\"zerolinecolor\":\"white\",\"automargin\":true,\"zerolinewidth\":2},\"yaxis\":{\"gridcolor\":\"white\",\"linecolor\":\"white\",\"ticks\":\"\",\"title\":{\"standoff\":15},\"zerolinecolor\":\"white\",\"automargin\":true,\"zerolinewidth\":2},\"scene\":{\"xaxis\":{\"backgroundcolor\":\"#E5ECF6\",\"gridcolor\":\"white\",\"linecolor\":\"white\",\"showbackground\":true,\"ticks\":\"\",\"zerolinecolor\":\"white\",\"gridwidth\":2},\"yaxis\":{\"backgroundcolor\":\"#E5ECF6\",\"gridcolor\":\"white\",\"linecolor\":\"white\",\"showbackground\":true,\"ticks\":\"\",\"zerolinecolor\":\"white\",\"gridwidth\":2},\"zaxis\":{\"backgroundcolor\":\"#E5ECF6\",\"gridcolor\":\"white\",\"linecolor\":\"white\",\"showbackground\":true,\"ticks\":\"\",\"zerolinecolor\":\"white\",\"gridwidth\":2}},\"shapedefaults\":{\"line\":{\"color\":\"#2a3f5f\"}},\"annotationdefaults\":{\"arrowcolor\":\"#2a3f5f\",\"arrowhead\":0,\"arrowwidth\":1},\"geo\":{\"bgcolor\":\"white\",\"landcolor\":\"#E5ECF6\",\"subunitcolor\":\"white\",\"showland\":true,\"showlakes\":true,\"lakecolor\":\"white\"},\"title\":{\"x\":0.05},\"mapbox\":{\"style\":\"light\"}}},\"xaxis\":{\"anchor\":\"y\",\"domain\":[0.0,1.0],\"title\":{\"text\":\"Fecha\"},\"dtick\":\"D1\"},\"yaxis\":{\"anchor\":\"x\",\"domain\":[0.0,1.0],\"title\":{\"text\":\"Hora del d\\u00eda\"},\"tickvals\":[539,540,541,660],\"ticktext\":[\"08:59:00\",\"09:00:00\",\"09:01:00\"],\"range\":[538,542]},\"legend\":{\"tracegroupgap\":0},\"title\":{\"text\":\"Diagrama de dispersi\\u00f3n para \\u00c1rea 2 Ma\\u00f1ana (RMSE: 17.77 segundos)\"},\"shapes\":[{\"line\":{\"color\":\"Red\",\"dash\":\"dash\",\"width\":2},\"type\":\"line\",\"x0\":\"2024-07-01T00:00:00\",\"x1\":\"2024-07-31T00:00:00\",\"y0\":540,\"y1\":540},{\"line\":{\"color\":\"gray\",\"dash\":\"dash\",\"width\":2},\"type\":\"line\",\"x0\":\"2024-07-01T00:00:00\",\"x1\":\"2024-07-31T00:00:00\",\"y0\":539,\"y1\":539},{\"line\":{\"color\":\"gray\",\"dash\":\"dash\",\"width\":2},\"type\":\"line\",\"x0\":\"2024-07-01T00:00:00\",\"x1\":\"2024-07-31T00:00:00\",\"y0\":541,\"y1\":541}],\"plot_bgcolor\":\"white\",\"paper_bgcolor\":\"white\"},                        {\"responsive\": true}                    ).then(function(){\n",
              "                            \n",
              "var gd = document.getElementById('8bc0882b-401b-4c81-b846-6eca8373c9bf');\n",
              "var x = new MutationObserver(function (mutations, observer) {{\n",
              "        var display = window.getComputedStyle(gd).display;\n",
              "        if (!display || display === 'none') {{\n",
              "            console.log([gd, 'removed!']);\n",
              "            Plotly.purge(gd);\n",
              "            observer.disconnect();\n",
              "        }}\n",
              "}});\n",
              "\n",
              "// Listen for the removal of the full notebook cells\n",
              "var notebookContainer = gd.closest('#notebook-container');\n",
              "if (notebookContainer) {{\n",
              "    x.observe(notebookContainer, {childList: true});\n",
              "}}\n",
              "\n",
              "// Listen for the clearing of the current output cell\n",
              "var outputEl = gd.closest('.output');\n",
              "if (outputEl) {{\n",
              "    x.observe(outputEl, {childList: true});\n",
              "}}\n",
              "\n",
              "                        })                };                            </script>        </div>\n",
              "</body>\n",
              "</html>"
            ]
          },
          "metadata": {}
        }
      ]
    },
    {
      "cell_type": "code",
      "source": [
        "# Filtrar las horas después de las 12:00 pm\n",
        "df_filtered_tarde2_a = df[df['hora'] > datetime.strptime('12:00:00', '%H:%M:%S').time()]\n",
        "df_filtered_tarde2 = df_filtered_tarde2_a[df_filtered_tarde2_a['area'] == 2]\n",
        "\n",
        "# Convertir la hora en minutos de diferencia respecto a las 3:00 pm\n",
        "hora_referencia_area1t = datetime.strptime('15:00:00', '%H:%M:%S').time()\n",
        "df_filtered_tarde2['desviacion_minutos'] = df_filtered_tarde2['hora'].apply(\n",
        "    lambda t: (datetime.combine(datetime.today(), t) - datetime.combine(datetime.today(), hora_referencia_area1t)).total_seconds() / 60)\n",
        "\n",
        "# Calcular el RMSE\n",
        "rmse_area2t = np.sqrt(np.mean(df_filtered_tarde2['desviacion_minutos']**2))\n",
        "\n",
        "# Filtrar solo los registros con área = 1\n",
        "df_area2 = df_filtered_tarde2[df_filtered_tarde2['area'] == 2]\n",
        "\n",
        "# Convertir la hora en minutos desde la medianoche para el área 1\n",
        "df_area2['hora_minutos'] = df_area2['hora'].apply(lambda t: t.hour * 60 + t.minute + t.second / 60)\n",
        "\n",
        "# Generar el gráfico de dispersión para área = 1\n",
        "fig_area2t = px.scatter(df_area2, x='fecha', y='hora_minutos', title=f'Diagrama de dispersión para Área 2 Tarde (RMSE: {60*rmse_area2t:.2f} segundos)',\n",
        "                 labels={'hora_minutos': 'Hora', 'fecha': 'Fecha'})\n",
        "\n",
        "# Añadir la línea de referencia en 3:00 pm (900 minutos desde medianoche)\n",
        "fig_area2t.add_shape(type=\"line\", x0=min(df_area2['fecha']), x1=max(df_area2['fecha']), y0=900, y1=900,\n",
        "              line=dict(color=\"Red\", width=2))\n",
        "\n",
        "# Añadir la línea de referencia en 8:59 am (539 minutos desde medianoche)\n",
        "fig_area2t.add_shape(type=\"line\", x0=min(df_area2['fecha']), x1=max(df_area2['fecha']), y0=899, y1=899,\n",
        "              line=dict(color=\"gray\", width=2, dash=\"dash\"))\n",
        "\n",
        "# Añadir la línea de referencia en 9:01 am (541 minutos desde medianoche)\n",
        "fig_area2t.add_shape(type=\"line\", x0=min(df_area2['fecha']), x1=max(df_area2['fecha']), y0=901, y1=901,\n",
        "              line=dict(color=\"gray\", width=2, dash=\"dash\"))\n",
        "\n",
        "# Actualizar el espaciado de las fechas para que sea diario\n",
        "fig_area2t.update_xaxes(dtick=\"D1\")  # Mostrar ticks diarios en el eje X\n",
        "\n",
        "# Añadir etiquetas en el eje Y en formato HH:MM:SS\n",
        "fig_area2t.update_layout(\n",
        "    yaxis=dict(\n",
        "        tickvals=[899, 900, 901],\n",
        "        ticktext=[\"14:59:00\", \"15:00:00\", \"15:01:00\"]\n",
        "    ),\n",
        "    yaxis_title=\"Hora del día\",\n",
        "    xaxis_title=\"Fecha\",\n",
        "    plot_bgcolor='white',  # Fondo del área de trazado\n",
        "    paper_bgcolor='white'  # Fondo del papel del gráfico\n",
        ")\n",
        "\n",
        "# Establecer el rango del eje Y en minutos\n",
        "fig_area2t.update_yaxes(range=[898, 902])  # 897 minutos = 15:00, 903 minutos = 15:03\n",
        "\n",
        "# Mostrar gráfico\n",
        "fig_area2t.show()"
      ],
      "metadata": {
        "colab": {
          "base_uri": "https://localhost:8080/",
          "height": 688
        },
        "id": "llFp7MB4slf7",
        "outputId": "4362f6a1-c107-4594-96f3-600307c38546"
      },
      "execution_count": 44,
      "outputs": [
        {
          "output_type": "stream",
          "name": "stderr",
          "text": [
            "<ipython-input-44-d2c9be63619d>:7: SettingWithCopyWarning:\n",
            "\n",
            "\n",
            "A value is trying to be set on a copy of a slice from a DataFrame.\n",
            "Try using .loc[row_indexer,col_indexer] = value instead\n",
            "\n",
            "See the caveats in the documentation: https://pandas.pydata.org/pandas-docs/stable/user_guide/indexing.html#returning-a-view-versus-a-copy\n",
            "\n"
          ]
        },
        {
          "output_type": "display_data",
          "data": {
            "text/html": [
              "<html>\n",
              "<head><meta charset=\"utf-8\" /></head>\n",
              "<body>\n",
              "    <div>            <script src=\"https://cdnjs.cloudflare.com/ajax/libs/mathjax/2.7.5/MathJax.js?config=TeX-AMS-MML_SVG\"></script><script type=\"text/javascript\">if (window.MathJax && window.MathJax.Hub && window.MathJax.Hub.Config) {window.MathJax.Hub.Config({SVG: {font: \"STIX-Web\"}});}</script>                <script type=\"text/javascript\">window.PlotlyConfig = {MathJaxConfig: 'local'};</script>\n",
              "        <script charset=\"utf-8\" src=\"https://cdn.plot.ly/plotly-2.35.2.min.js\"></script>                <div id=\"36536979-4931-4e09-836c-486412ef002d\" class=\"plotly-graph-div\" style=\"height:525px; width:100%;\"></div>            <script type=\"text/javascript\">                                    window.PLOTLYENV=window.PLOTLYENV || {};                                    if (document.getElementById(\"36536979-4931-4e09-836c-486412ef002d\")) {                    Plotly.newPlot(                        \"36536979-4931-4e09-836c-486412ef002d\",                        [{\"hovertemplate\":\"Fecha=%{x}\\u003cbr\\u003eHora=%{y}\\u003cextra\\u003e\\u003c\\u002fextra\\u003e\",\"legendgroup\":\"\",\"marker\":{\"color\":\"#636efa\",\"symbol\":\"circle\"},\"mode\":\"markers\",\"name\":\"\",\"orientation\":\"v\",\"showlegend\":false,\"x\":[\"2024-07-27T00:00:00\",\"2024-07-24T00:00:00\",\"2024-07-16T00:00:00\",\"2024-07-14T00:00:00\",\"2024-07-26T00:00:00\",\"2024-07-28T00:00:00\",\"2024-07-05T00:00:00\",\"2024-07-30T00:00:00\",\"2024-07-12T00:00:00\",\"2024-07-22T00:00:00\",\"2024-07-18T00:00:00\",\"2024-07-04T00:00:00\",\"2024-07-20T00:00:00\",\"2024-07-10T00:00:00\",\"2024-07-15T00:00:00\",\"2024-07-02T00:00:00\",\"2024-07-09T00:00:00\",\"2024-07-01T00:00:00\",\"2024-07-08T00:00:00\",\"2024-07-31T00:00:00\",\"2024-07-21T00:00:00\",\"2024-07-11T00:00:00\",\"2024-07-17T00:00:00\",\"2024-07-23T00:00:00\",\"2024-07-25T00:00:00\",\"2024-07-13T00:00:00\",\"2024-07-07T00:00:00\",\"2024-07-06T00:00:00\",\"2024-07-03T00:00:00\",\"2024-07-29T00:00:00\",\"2024-07-19T00:00:00\"],\"xaxis\":\"x\",\"y\":[900.25,900.4,900.05,900.3166666666667,900.35,900.4833333333333,900.0333333333333,900.2,900.2,900.1,900.3833333333333,900.3333333333334,900.2333333333333,900.3333333333334,900.1166666666667,900.3833333333333,900.2166666666667,900.3166666666667,900.05,900.1666666666666,900.2,900.1,900.1166666666667,900.1333333333333,900.2666666666667,900.0333333333333,900.15,900.4,900.2166666666667,900.4833333333333,900.45],\"yaxis\":\"y\",\"type\":\"scatter\"}],                        {\"template\":{\"data\":{\"histogram2dcontour\":[{\"type\":\"histogram2dcontour\",\"colorbar\":{\"outlinewidth\":0,\"ticks\":\"\"},\"colorscale\":[[0.0,\"#0d0887\"],[0.1111111111111111,\"#46039f\"],[0.2222222222222222,\"#7201a8\"],[0.3333333333333333,\"#9c179e\"],[0.4444444444444444,\"#bd3786\"],[0.5555555555555556,\"#d8576b\"],[0.6666666666666666,\"#ed7953\"],[0.7777777777777778,\"#fb9f3a\"],[0.8888888888888888,\"#fdca26\"],[1.0,\"#f0f921\"]]}],\"choropleth\":[{\"type\":\"choropleth\",\"colorbar\":{\"outlinewidth\":0,\"ticks\":\"\"}}],\"histogram2d\":[{\"type\":\"histogram2d\",\"colorbar\":{\"outlinewidth\":0,\"ticks\":\"\"},\"colorscale\":[[0.0,\"#0d0887\"],[0.1111111111111111,\"#46039f\"],[0.2222222222222222,\"#7201a8\"],[0.3333333333333333,\"#9c179e\"],[0.4444444444444444,\"#bd3786\"],[0.5555555555555556,\"#d8576b\"],[0.6666666666666666,\"#ed7953\"],[0.7777777777777778,\"#fb9f3a\"],[0.8888888888888888,\"#fdca26\"],[1.0,\"#f0f921\"]]}],\"heatmap\":[{\"type\":\"heatmap\",\"colorbar\":{\"outlinewidth\":0,\"ticks\":\"\"},\"colorscale\":[[0.0,\"#0d0887\"],[0.1111111111111111,\"#46039f\"],[0.2222222222222222,\"#7201a8\"],[0.3333333333333333,\"#9c179e\"],[0.4444444444444444,\"#bd3786\"],[0.5555555555555556,\"#d8576b\"],[0.6666666666666666,\"#ed7953\"],[0.7777777777777778,\"#fb9f3a\"],[0.8888888888888888,\"#fdca26\"],[1.0,\"#f0f921\"]]}],\"heatmapgl\":[{\"type\":\"heatmapgl\",\"colorbar\":{\"outlinewidth\":0,\"ticks\":\"\"},\"colorscale\":[[0.0,\"#0d0887\"],[0.1111111111111111,\"#46039f\"],[0.2222222222222222,\"#7201a8\"],[0.3333333333333333,\"#9c179e\"],[0.4444444444444444,\"#bd3786\"],[0.5555555555555556,\"#d8576b\"],[0.6666666666666666,\"#ed7953\"],[0.7777777777777778,\"#fb9f3a\"],[0.8888888888888888,\"#fdca26\"],[1.0,\"#f0f921\"]]}],\"contourcarpet\":[{\"type\":\"contourcarpet\",\"colorbar\":{\"outlinewidth\":0,\"ticks\":\"\"}}],\"contour\":[{\"type\":\"contour\",\"colorbar\":{\"outlinewidth\":0,\"ticks\":\"\"},\"colorscale\":[[0.0,\"#0d0887\"],[0.1111111111111111,\"#46039f\"],[0.2222222222222222,\"#7201a8\"],[0.3333333333333333,\"#9c179e\"],[0.4444444444444444,\"#bd3786\"],[0.5555555555555556,\"#d8576b\"],[0.6666666666666666,\"#ed7953\"],[0.7777777777777778,\"#fb9f3a\"],[0.8888888888888888,\"#fdca26\"],[1.0,\"#f0f921\"]]}],\"surface\":[{\"type\":\"surface\",\"colorbar\":{\"outlinewidth\":0,\"ticks\":\"\"},\"colorscale\":[[0.0,\"#0d0887\"],[0.1111111111111111,\"#46039f\"],[0.2222222222222222,\"#7201a8\"],[0.3333333333333333,\"#9c179e\"],[0.4444444444444444,\"#bd3786\"],[0.5555555555555556,\"#d8576b\"],[0.6666666666666666,\"#ed7953\"],[0.7777777777777778,\"#fb9f3a\"],[0.8888888888888888,\"#fdca26\"],[1.0,\"#f0f921\"]]}],\"mesh3d\":[{\"type\":\"mesh3d\",\"colorbar\":{\"outlinewidth\":0,\"ticks\":\"\"}}],\"scatter\":[{\"fillpattern\":{\"fillmode\":\"overlay\",\"size\":10,\"solidity\":0.2},\"type\":\"scatter\"}],\"parcoords\":[{\"type\":\"parcoords\",\"line\":{\"colorbar\":{\"outlinewidth\":0,\"ticks\":\"\"}}}],\"scatterpolargl\":[{\"type\":\"scatterpolargl\",\"marker\":{\"colorbar\":{\"outlinewidth\":0,\"ticks\":\"\"}}}],\"bar\":[{\"error_x\":{\"color\":\"#2a3f5f\"},\"error_y\":{\"color\":\"#2a3f5f\"},\"marker\":{\"line\":{\"color\":\"#E5ECF6\",\"width\":0.5},\"pattern\":{\"fillmode\":\"overlay\",\"size\":10,\"solidity\":0.2}},\"type\":\"bar\"}],\"scattergeo\":[{\"type\":\"scattergeo\",\"marker\":{\"colorbar\":{\"outlinewidth\":0,\"ticks\":\"\"}}}],\"scatterpolar\":[{\"type\":\"scatterpolar\",\"marker\":{\"colorbar\":{\"outlinewidth\":0,\"ticks\":\"\"}}}],\"histogram\":[{\"marker\":{\"pattern\":{\"fillmode\":\"overlay\",\"size\":10,\"solidity\":0.2}},\"type\":\"histogram\"}],\"scattergl\":[{\"type\":\"scattergl\",\"marker\":{\"colorbar\":{\"outlinewidth\":0,\"ticks\":\"\"}}}],\"scatter3d\":[{\"type\":\"scatter3d\",\"line\":{\"colorbar\":{\"outlinewidth\":0,\"ticks\":\"\"}},\"marker\":{\"colorbar\":{\"outlinewidth\":0,\"ticks\":\"\"}}}],\"scattermapbox\":[{\"type\":\"scattermapbox\",\"marker\":{\"colorbar\":{\"outlinewidth\":0,\"ticks\":\"\"}}}],\"scatterternary\":[{\"type\":\"scatterternary\",\"marker\":{\"colorbar\":{\"outlinewidth\":0,\"ticks\":\"\"}}}],\"scattercarpet\":[{\"type\":\"scattercarpet\",\"marker\":{\"colorbar\":{\"outlinewidth\":0,\"ticks\":\"\"}}}],\"carpet\":[{\"aaxis\":{\"endlinecolor\":\"#2a3f5f\",\"gridcolor\":\"white\",\"linecolor\":\"white\",\"minorgridcolor\":\"white\",\"startlinecolor\":\"#2a3f5f\"},\"baxis\":{\"endlinecolor\":\"#2a3f5f\",\"gridcolor\":\"white\",\"linecolor\":\"white\",\"minorgridcolor\":\"white\",\"startlinecolor\":\"#2a3f5f\"},\"type\":\"carpet\"}],\"table\":[{\"cells\":{\"fill\":{\"color\":\"#EBF0F8\"},\"line\":{\"color\":\"white\"}},\"header\":{\"fill\":{\"color\":\"#C8D4E3\"},\"line\":{\"color\":\"white\"}},\"type\":\"table\"}],\"barpolar\":[{\"marker\":{\"line\":{\"color\":\"#E5ECF6\",\"width\":0.5},\"pattern\":{\"fillmode\":\"overlay\",\"size\":10,\"solidity\":0.2}},\"type\":\"barpolar\"}],\"pie\":[{\"automargin\":true,\"type\":\"pie\"}]},\"layout\":{\"autotypenumbers\":\"strict\",\"colorway\":[\"#636efa\",\"#EF553B\",\"#00cc96\",\"#ab63fa\",\"#FFA15A\",\"#19d3f3\",\"#FF6692\",\"#B6E880\",\"#FF97FF\",\"#FECB52\"],\"font\":{\"color\":\"#2a3f5f\"},\"hovermode\":\"closest\",\"hoverlabel\":{\"align\":\"left\"},\"paper_bgcolor\":\"white\",\"plot_bgcolor\":\"#E5ECF6\",\"polar\":{\"bgcolor\":\"#E5ECF6\",\"angularaxis\":{\"gridcolor\":\"white\",\"linecolor\":\"white\",\"ticks\":\"\"},\"radialaxis\":{\"gridcolor\":\"white\",\"linecolor\":\"white\",\"ticks\":\"\"}},\"ternary\":{\"bgcolor\":\"#E5ECF6\",\"aaxis\":{\"gridcolor\":\"white\",\"linecolor\":\"white\",\"ticks\":\"\"},\"baxis\":{\"gridcolor\":\"white\",\"linecolor\":\"white\",\"ticks\":\"\"},\"caxis\":{\"gridcolor\":\"white\",\"linecolor\":\"white\",\"ticks\":\"\"}},\"coloraxis\":{\"colorbar\":{\"outlinewidth\":0,\"ticks\":\"\"}},\"colorscale\":{\"sequential\":[[0.0,\"#0d0887\"],[0.1111111111111111,\"#46039f\"],[0.2222222222222222,\"#7201a8\"],[0.3333333333333333,\"#9c179e\"],[0.4444444444444444,\"#bd3786\"],[0.5555555555555556,\"#d8576b\"],[0.6666666666666666,\"#ed7953\"],[0.7777777777777778,\"#fb9f3a\"],[0.8888888888888888,\"#fdca26\"],[1.0,\"#f0f921\"]],\"sequentialminus\":[[0.0,\"#0d0887\"],[0.1111111111111111,\"#46039f\"],[0.2222222222222222,\"#7201a8\"],[0.3333333333333333,\"#9c179e\"],[0.4444444444444444,\"#bd3786\"],[0.5555555555555556,\"#d8576b\"],[0.6666666666666666,\"#ed7953\"],[0.7777777777777778,\"#fb9f3a\"],[0.8888888888888888,\"#fdca26\"],[1.0,\"#f0f921\"]],\"diverging\":[[0,\"#8e0152\"],[0.1,\"#c51b7d\"],[0.2,\"#de77ae\"],[0.3,\"#f1b6da\"],[0.4,\"#fde0ef\"],[0.5,\"#f7f7f7\"],[0.6,\"#e6f5d0\"],[0.7,\"#b8e186\"],[0.8,\"#7fbc41\"],[0.9,\"#4d9221\"],[1,\"#276419\"]]},\"xaxis\":{\"gridcolor\":\"white\",\"linecolor\":\"white\",\"ticks\":\"\",\"title\":{\"standoff\":15},\"zerolinecolor\":\"white\",\"automargin\":true,\"zerolinewidth\":2},\"yaxis\":{\"gridcolor\":\"white\",\"linecolor\":\"white\",\"ticks\":\"\",\"title\":{\"standoff\":15},\"zerolinecolor\":\"white\",\"automargin\":true,\"zerolinewidth\":2},\"scene\":{\"xaxis\":{\"backgroundcolor\":\"#E5ECF6\",\"gridcolor\":\"white\",\"linecolor\":\"white\",\"showbackground\":true,\"ticks\":\"\",\"zerolinecolor\":\"white\",\"gridwidth\":2},\"yaxis\":{\"backgroundcolor\":\"#E5ECF6\",\"gridcolor\":\"white\",\"linecolor\":\"white\",\"showbackground\":true,\"ticks\":\"\",\"zerolinecolor\":\"white\",\"gridwidth\":2},\"zaxis\":{\"backgroundcolor\":\"#E5ECF6\",\"gridcolor\":\"white\",\"linecolor\":\"white\",\"showbackground\":true,\"ticks\":\"\",\"zerolinecolor\":\"white\",\"gridwidth\":2}},\"shapedefaults\":{\"line\":{\"color\":\"#2a3f5f\"}},\"annotationdefaults\":{\"arrowcolor\":\"#2a3f5f\",\"arrowhead\":0,\"arrowwidth\":1},\"geo\":{\"bgcolor\":\"white\",\"landcolor\":\"#E5ECF6\",\"subunitcolor\":\"white\",\"showland\":true,\"showlakes\":true,\"lakecolor\":\"white\"},\"title\":{\"x\":0.05},\"mapbox\":{\"style\":\"light\"}}},\"xaxis\":{\"anchor\":\"y\",\"domain\":[0.0,1.0],\"title\":{\"text\":\"Fecha\"},\"dtick\":\"D1\"},\"yaxis\":{\"anchor\":\"x\",\"domain\":[0.0,1.0],\"title\":{\"text\":\"Hora del d\\u00eda\"},\"tickvals\":[899,900,901],\"ticktext\":[\"14:59:00\",\"15:00:00\",\"15:01:00\"],\"range\":[898,902]},\"legend\":{\"tracegroupgap\":0},\"title\":{\"text\":\"Diagrama de dispersi\\u00f3n para \\u00c1rea 2 Tarde (RMSE: 16.53 segundos)\"},\"shapes\":[{\"line\":{\"color\":\"Red\",\"width\":2},\"type\":\"line\",\"x0\":\"2024-07-01T00:00:00\",\"x1\":\"2024-07-31T00:00:00\",\"y0\":900,\"y1\":900},{\"line\":{\"color\":\"gray\",\"dash\":\"dash\",\"width\":2},\"type\":\"line\",\"x0\":\"2024-07-01T00:00:00\",\"x1\":\"2024-07-31T00:00:00\",\"y0\":899,\"y1\":899},{\"line\":{\"color\":\"gray\",\"dash\":\"dash\",\"width\":2},\"type\":\"line\",\"x0\":\"2024-07-01T00:00:00\",\"x1\":\"2024-07-31T00:00:00\",\"y0\":901,\"y1\":901}],\"plot_bgcolor\":\"white\",\"paper_bgcolor\":\"white\"},                        {\"responsive\": true}                    ).then(function(){\n",
              "                            \n",
              "var gd = document.getElementById('36536979-4931-4e09-836c-486412ef002d');\n",
              "var x = new MutationObserver(function (mutations, observer) {{\n",
              "        var display = window.getComputedStyle(gd).display;\n",
              "        if (!display || display === 'none') {{\n",
              "            console.log([gd, 'removed!']);\n",
              "            Plotly.purge(gd);\n",
              "            observer.disconnect();\n",
              "        }}\n",
              "}});\n",
              "\n",
              "// Listen for the removal of the full notebook cells\n",
              "var notebookContainer = gd.closest('#notebook-container');\n",
              "if (notebookContainer) {{\n",
              "    x.observe(notebookContainer, {childList: true});\n",
              "}}\n",
              "\n",
              "// Listen for the clearing of the current output cell\n",
              "var outputEl = gd.closest('.output');\n",
              "if (outputEl) {{\n",
              "    x.observe(outputEl, {childList: true});\n",
              "}}\n",
              "\n",
              "                        })                };                            </script>        </div>\n",
              "</body>\n",
              "</html>"
            ]
          },
          "metadata": {}
        }
      ]
    }
  ]
}